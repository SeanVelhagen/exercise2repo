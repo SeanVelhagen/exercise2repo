{
 "cells": [
  {
   "cell_type": "code",
   "execution_count": 1,
   "metadata": {},
   "outputs": [],
   "source": [
    "import threading\n",
    "import os\n",
    "from PIL import Image"
   ]
  },
  {
   "cell_type": "code",
   "execution_count": 2,
   "metadata": {},
   "outputs": [],
   "source": [
    "def copyPasteImages (loadDir, saveDir):\n",
    "    imgs = os.listdir(loadDir)\n",
    "    listLength = 0\n",
    "    for img in imgs:\n",
    "        listLength += 1\n",
    "    for img in imgs:\n",
    "        curImg = Image.open(loadDir + '/' + img).save(saveDir + '/pasted_' + img)\n",
    "    del curImg\n",
    "    del img\n",
    "    del imgs\n",
    "    print('All done! (copyPasteImages)')"
   ]
  },
  {
   "cell_type": "code",
   "execution_count": 3,
   "metadata": {},
   "outputs": [],
   "source": [
    "def resizeImages (loadDir, widthWant, heightWant):\n",
    "    imgs = os.listdir(loadDir)\n",
    "    listLength = 0\n",
    "    for img in imgs:\n",
    "        listLength += 1\n",
    "    for img in imgs:\n",
    "        curImg = Image.open(loadDir + '/' + img).resize((widthWant, heightWant), Image.ANTIALIAS)\n",
    "        curImg.save(loadDir + '/resized_to_' + str(widthWant) + '_by_' + str(heightWant) + '_' + img)\n",
    "    del curImg\n",
    "    del img\n",
    "    del imgs\n",
    "    print('All done! (resizeImages)')"
   ]
  },
  {
   "cell_type": "code",
   "execution_count": 4,
   "metadata": {},
   "outputs": [],
   "source": [
    "def cropImages (loadDir, top, left, bottom, right):\n",
    "    imgs = os.listdir(loadDir)\n",
    "    listLength = 0\n",
    "    for img in imgs:\n",
    "        listLength += 1\n",
    "    for img in imgs:\n",
    "        curImg = Image.open(loadDir + '/' + img).crop((top, left, bottom ,right)).save(loadDir + '/cropped_' + img)\n",
    "    del curImg\n",
    "    del img\n",
    "    del imgs\n",
    "    print('All done! (cropImages)')"
   ]
  },
  {
   "cell_type": "code",
   "execution_count": 5,
   "metadata": {},
   "outputs": [],
   "source": [
    "def rotateImages (loadDir, degrees):\n",
    "    imgs = os.listdir(loadDir)\n",
    "    listLength = 0\n",
    "    for img in imgs:\n",
    "        listLength += 1\n",
    "    for img in imgs:\n",
    "        curImg = Image.open(loadDir + '/' + img).rotate(degrees, expand = 1).save(loadDir + '/rotated_' + img)\n",
    "    del curImg\n",
    "    del img\n",
    "    del imgs\n",
    "    print('All done! (rotateImages)')"
   ]
  },
  {
   "cell_type": "code",
   "execution_count": 6,
   "metadata": {},
   "outputs": [],
   "source": [
    "t1 = threading.Thread(target = resizeImages, name = 'thread1', args = ('/home/sean/dir3', 500, 200))"
   ]
  },
  {
   "cell_type": "code",
   "execution_count": 7,
   "metadata": {},
   "outputs": [],
   "source": [
    "t2 = threading.Thread(target = resizeImages, name ='thread2', args = ('/home/sean/dir3', 500, 200))"
   ]
  },
  {
   "cell_type": "code",
   "execution_count": 8,
   "metadata": {},
   "outputs": [],
   "source": [
    "t3 = threading.Thread(target = resizeImages, name = 'thread3', args = ('/home/sean/dir3', 500, 200))"
   ]
  },
  {
   "cell_type": "code",
   "execution_count": 9,
   "metadata": {},
   "outputs": [],
   "source": [
    "t4 = threading.Thread(target = resizeImages, name = 'thread4', args = ('/home/sean/dir3', 500, 200))"
   ]
  },
  {
   "cell_type": "code",
   "execution_count": 10,
   "metadata": {},
   "outputs": [
    {
     "name": "stdout",
     "output_type": "stream",
     "text": [
      "All done! (resizeImages)\n",
      "All done! (resizeImages)\n",
      "All done! (resizeImages)\n",
      "All done! (resizeImages)\n"
     ]
    }
   ],
   "source": [
    "t1.start()\n",
    "t2.start()\n",
    "t3.start()\n",
    "t4.start()"
   ]
  },
  {
   "cell_type": "code",
   "execution_count": null,
   "metadata": {},
   "outputs": [],
   "source": []
  }
 ],
 "metadata": {
  "kernelspec": {
   "display_name": "Python 3",
   "language": "python",
   "name": "python3"
  },
  "language_info": {
   "codemirror_mode": {
    "name": "ipython",
    "version": 3
   },
   "file_extension": ".py",
   "mimetype": "text/x-python",
   "name": "python",
   "nbconvert_exporter": "python",
   "pygments_lexer": "ipython3",
   "version": "3.7.3"
  }
 },
 "nbformat": 4,
 "nbformat_minor": 2
}
