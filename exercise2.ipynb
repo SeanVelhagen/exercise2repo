{
 "cells": [
  {
   "cell_type": "code",
   "execution_count": 1,
   "metadata": {},
   "outputs": [],
   "source": [
    "import threading\n",
    "import os\n",
    "import math\n",
    "from PIL import Image"
   ]
  },
  {
   "cell_type": "code",
   "execution_count": 2,
   "metadata": {},
   "outputs": [],
   "source": [
    "def listImages (loadDir, t):\n",
    "    imgs = os.listdir(loadDir)\n",
    "    listLength = 0\n",
    "    imgsToProcess = []\n",
    "    for img in imgs:\n",
    "        listLength += 1\n",
    "    if t == 1:\n",
    "        for i in range(math.ceil(listLength/4)):\n",
    "            imgsToProcess.append(imgs[i])\n",
    "    elif t == 2:\n",
    "        for i in range(math.ceil(listLength/4), math.ceil((listLength*2)/4)):\n",
    "            imgsToProcess.append(imgs[i])\n",
    "    elif t == 3:\n",
    "        for i in range(math.ceil((listLength*2)/4), math.ceil((listLength*3)/4)):\n",
    "            imgsToProcess.append(imgs[i])\n",
    "    elif t == 4:\n",
    "        for i in range(math.ceil((listLength*3)/4), listLength):\n",
    "            imgsToProcess.append(imgs[i])\n",
    "    print('List created')\n",
    "    del t\n",
    "    del img\n",
    "    del imgs\n",
    "    del listLength\n",
    "    return imgsToProcess"
   ]
  },
  {
   "cell_type": "code",
   "execution_count": 3,
   "metadata": {},
   "outputs": [],
   "source": [
    "def copyPasteImages (imgs, loadDir, saveDir):\n",
    "    for img in imgs:\n",
    "        curImg = Image.open(loadDir + '/' + img).save(saveDir + '/pasted_' + img)\n",
    "    del curImg\n",
    "    del img\n",
    "    del imgs\n",
    "    print('All done! (copyPasteImages)')"
   ]
  },
  {
   "cell_type": "code",
   "execution_count": 4,
   "metadata": {},
   "outputs": [],
   "source": [
    "def resizeImages (imgs, loadDir, saveDir, widthWant, heightWant):\n",
    "    for img in imgs:\n",
    "        curImg = Image.open(loadDir + '/' + img).resize((widthWant, heightWant), Image.ANTIALIAS)\n",
    "        curImg.save(saveDir + '/resized_to_' + str(widthWant) + '_by_' + str(heightWant) + '_' + img)\n",
    "    del curImg\n",
    "    del img\n",
    "    del imgs\n",
    "    print('All done! (resizeImages)')"
   ]
  },
  {
   "cell_type": "code",
   "execution_count": 5,
   "metadata": {},
   "outputs": [],
   "source": [
    "def cropImages (imgs, loadDir, saveDir, top, left, bottom, right):\n",
    "    for img in imgs:\n",
    "        curImg = Image.open(loadDir + '/' + img).crop((top, left, bottom ,right)).save(saveDir + '/cropped_' + img)\n",
    "    del curImg\n",
    "    del img\n",
    "    del imgs\n",
    "    print('All done! (cropImages)')"
   ]
  },
  {
   "cell_type": "code",
   "execution_count": 6,
   "metadata": {},
   "outputs": [],
   "source": [
    "def rotateImages (imgs, loadDir, saveDir, degrees):\n",
    "    for img in imgs:\n",
    "        curImg = Image.open(loadDir + '/' + img).rotate(degrees, expand = 1).save(saveDir + '/rotated_' + img)\n",
    "    del curImg\n",
    "    del img\n",
    "    del imgs\n",
    "    print('All done! (rotateImages)')"
   ]
  },
  {
   "cell_type": "code",
   "execution_count": 7,
   "metadata": {},
   "outputs": [
    {
     "name": "stdout",
     "output_type": "stream",
     "text": [
      "Enter the directory in which the pictures are located: /home/sean/dir2\n"
     ]
    }
   ],
   "source": [
    "userDir1 = input('Enter the directory in which the pictures are located: ')"
   ]
  },
  {
   "cell_type": "code",
   "execution_count": 8,
   "metadata": {},
   "outputs": [
    {
     "name": "stdout",
     "output_type": "stream",
     "text": [
      "Enter the directory in which you would like to save the pictures.\n",
      "(You may enter the same directory as before if you wish): /home/sean/dir4\n"
     ]
    }
   ],
   "source": [
    "print('Enter the directory in which you would like to save the pictures.')\n",
    "userDir2 = input('(You may enter the same directory as before if you wish): ')"
   ]
  },
  {
   "cell_type": "code",
   "execution_count": 9,
   "metadata": {},
   "outputs": [
    {
     "name": "stdout",
     "output_type": "stream",
     "text": [
      "List created\n"
     ]
    }
   ],
   "source": [
    "t1 = threading.Thread(target = cropImages, name = 'thread1',\\\n",
    "                      args = (listImages(userDir1, 1), userDir1, userDir2, 0, 0, 200, 200))"
   ]
  },
  {
   "cell_type": "code",
   "execution_count": 10,
   "metadata": {},
   "outputs": [
    {
     "name": "stdout",
     "output_type": "stream",
     "text": [
      "List created\n"
     ]
    }
   ],
   "source": [
    "t2 = threading.Thread(target = cropImages, name ='thread2',\\\n",
    "                      args = (listImages(userDir1, 2), userDir1, userDir2, 0, 0, 200, 200))"
   ]
  },
  {
   "cell_type": "code",
   "execution_count": 11,
   "metadata": {},
   "outputs": [
    {
     "name": "stdout",
     "output_type": "stream",
     "text": [
      "List created\n"
     ]
    }
   ],
   "source": [
    "t3 = threading.Thread(target = cropImages, name = 'thread3',\\\n",
    "                      args = (listImages(userDir1, 3), userDir1, userDir2, 0, 0, 200, 200))"
   ]
  },
  {
   "cell_type": "code",
   "execution_count": 12,
   "metadata": {},
   "outputs": [
    {
     "name": "stdout",
     "output_type": "stream",
     "text": [
      "List created\n"
     ]
    }
   ],
   "source": [
    "t4 = threading.Thread(target = cropImages, name = 'thread4',\\\n",
    "                      args = (listImages(userDir1, 4), userDir1, userDir2, 0, 0, 200, 200))"
   ]
  },
  {
   "cell_type": "code",
   "execution_count": 13,
   "metadata": {},
   "outputs": [
    {
     "name": "stdout",
     "output_type": "stream",
     "text": [
      "All done! (cropImages)\n",
      "All done! (cropImages)\n",
      "All done! (cropImages)\n",
      "All done! (cropImages)\n"
     ]
    }
   ],
   "source": [
    "t1.start()\n",
    "t2.start()\n",
    "t3.start()\n",
    "t4.start()"
   ]
  },
  {
   "cell_type": "code",
   "execution_count": null,
   "metadata": {},
   "outputs": [],
   "source": []
  }
 ],
 "metadata": {
  "kernelspec": {
   "display_name": "Python 3",
   "language": "python",
   "name": "python3"
  },
  "language_info": {
   "codemirror_mode": {
    "name": "ipython",
    "version": 3
   },
   "file_extension": ".py",
   "mimetype": "text/x-python",
   "name": "python",
   "nbconvert_exporter": "python",
   "pygments_lexer": "ipython3",
   "version": "3.7.3"
  }
 },
 "nbformat": 4,
 "nbformat_minor": 2
}
